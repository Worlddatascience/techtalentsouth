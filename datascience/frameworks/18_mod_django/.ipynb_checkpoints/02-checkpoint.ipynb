{
 "cells": [
  {
   "cell_type": "markdown",
   "metadata": {},
   "source": [
    "# [Table Of Contents](../../index.ipynb)\n",
    "### Data Science Fundamentals"
   ]
  },
  {
   "cell_type": "markdown",
   "metadata": {},
   "source": [
    "## [Data Science Fundamentals: Python-based Web Framework - Django](./18_mod_django/index.ipynb)\n",
    "\n",
    "Django is a Python-based free and open-source web framework, which follows the model-template-view architectural pattern."
   ]
  },
  {
   "cell_type": "markdown",
   "metadata": {},
   "source": [
    "- - -\n",
    "<!--NAVIGATION-->\n",
    "Module 18. [Building With/Without Jupyter Notebook](./index.ipynb) | [Building A Django Website Using A Template](./01.ipynb) | **[Django With Database](./02.ipynb)**"
   ]
  },
  {
   "cell_type": "markdown",
   "metadata": {},
   "source": [
    "## Django With A Database"
   ]
  },
  {
   "cell_type": "code",
   "execution_count": 6,
   "metadata": {},
   "outputs": [
    {
     "name": "stdout",
     "output_type": "stream",
     "text": [
      "Collecting virtualenv\n",
      "  Using cached virtualenv-20.0.28-py2.py3-none-any.whl (4.9 MB)\n",
      "Collecting distlib<1,>=0.3.1\n",
      "  Using cached distlib-0.3.1-py2.py3-none-any.whl (335 kB)\n",
      "Requirement already satisfied: six<2,>=1.9.0 in /usr/local/Cellar/jupyterlab/2.2.0/libexec/lib/python3.8/site-packages (from virtualenv) (1.15.0)\n",
      "Collecting filelock<4,>=3.0.0\n",
      "  Using cached filelock-3.0.12-py3-none-any.whl (7.6 kB)\n",
      "Collecting appdirs<2,>=1.4.3\n",
      "  Using cached appdirs-1.4.4-py2.py3-none-any.whl (9.6 kB)\n",
      "Installing collected packages: distlib, filelock, appdirs, virtualenv\n",
      "Successfully installed appdirs-1.4.4 distlib-0.3.1 filelock-3.0.12 virtualenv-20.0.28\n",
      "Note: you may need to restart the kernel to use updated packages.\n"
     ]
    }
   ],
   "source": [
    "pip install virtualenv"
   ]
  },
  {
   "cell_type": "raw",
   "metadata": {},
   "source": [
    "virtualenv --version"
   ]
  },
  {
   "cell_type": "raw",
   "metadata": {},
   "source": [
    "virtualenv .venv -p python3"
   ]
  },
  {
   "cell_type": "raw",
   "metadata": {},
   "source": [
    "source .venv/bin/activate"
   ]
  },
  {
   "cell_type": "raw",
   "metadata": {},
   "source": [
    "pip3 install treebeard"
   ]
  },
  {
   "cell_type": "raw",
   "metadata": {},
   "source": [
    "pip3 install django"
   ]
  },
  {
   "cell_type": "raw",
   "metadata": {},
   "source": [
    "pip3 install -r requirements.txt"
   ]
  }
 ],
 "metadata": {
  "kernelspec": {
   "display_name": "Python 3",
   "language": "python",
   "name": "python3"
  },
  "language_info": {
   "codemirror_mode": {
    "name": "ipython",
    "version": 3
   },
   "file_extension": ".py",
   "mimetype": "text/x-python",
   "name": "python",
   "nbconvert_exporter": "python",
   "pygments_lexer": "ipython3",
   "version": "3.8.5"
  }
 },
 "nbformat": 4,
 "nbformat_minor": 4
}
