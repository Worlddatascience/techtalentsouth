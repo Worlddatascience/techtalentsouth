{
 "cells": [
  {
   "cell_type": "markdown",
   "metadata": {},
   "source": [
    "![images](images/logo.png)"
   ]
  },
  {
   "cell_type": "markdown",
   "metadata": {},
   "source": [
    "\n",
    "# Master Big Data In Little Time"
   ]
  },
  {
   "cell_type": "markdown",
   "metadata": {},
   "source": [
    "# [Table Of Contents](index.ipynb)"
   ]
  },
  {
   "cell_type": "markdown",
   "metadata": {},
   "source": [
    "## Master Big Data In Little Time / [History](history/index.ipynb)\n",
    "\n",
    "The term ‘Big Data’ has been in use since the early 1990s. Although it is not exactly known who first used the term, most people credit John R. Mashey (who at the time worked at Silicon Graphics) for making the term popular.\n",
    "\n",
    "In its true essence, Big Data is not something that is completely new or only of the last two decades. Over the course of centuries, people have been trying to use data analysis and analytics techniques to support their decision-making process. The ancient Egyptians around 300 BC already tried to capture all existing ‘data’ in the library of Alexandria. Moreover, the Roman Empire used to carefully analyze statistics of their military to determine the optimal distribution for their armies.\n",
    "\n",
    "However, in the last two decades, the volume and speed with which data is generated has changed – beyond measures of human comprehension. The total amount of data in the world was 4.4 zettabytes in 2013. That is set to rise steeply to 44 zettabytes by 2020. To put that in perspective, 44 zettabytes is equivalent to 44 trillion gigabytes. Even with the most advanced technologies today, it is impossible to analyze all this data. The need to process these increasingly larger (and unstructured) data sets is how traditional data analysis transformed into ‘Big Data’ in the last decade."
   ]
  },
  {
   "cell_type": "markdown",
   "metadata": {},
   "source": [
    "- - -"
   ]
  },
  {
   "cell_type": "markdown",
   "metadata": {},
   "source": [
    "## Master Big Data In Little Time / [Language: SQL](./data/sql/00.ipynb) \n",
    "\n",
    "Structured Query Language) is a domain-specific language used in programming and designed for managing data held in a relational database management system (RDBMS), or for stream processing in a relational data stream management system (RDSMS). It is particularly useful in handling structured data, i.e. data incorporating relations among entities and variables.\n",
    "\n",
    "- - -\n",
    "\n",
    "## Master Big Data In Little Time / [Data: Hadoop](./data/hadoop/00.ipynb) \n",
    "\n",
    "Apache Hadoop is a collection of open-source software utilities that facilitate using a network of many computers to solve problems involving massive amounts of data and computation. It provides a software framework for distributed storage and processing of big data using the MapReduce programming model. Originally designed for computer clusters built from commodity hardware—still the common use—it has also found use on clusters of higher-end hardware. All the modules in Hadoop are designed with a fundamental assumption that hardware failures are common occurrences and should be automatically handled by the framework.\n",
    "\n",
    "## Master Big Data In Little Time / [Data: NoSQL](./data/nosql/00.ipynb)\n",
    "\n",
    "A NoSQL (originally referring to \"non-SQL\" or \"non-relational\") database provides a mechanism for storage and retrieval of data that is modeled in means other than the tabular relations used in relational databases. Such databases have existed since the late 1960s, but the name \"NoSQL\" was only coined in the early 21st century, triggered by the needs of Web 2.0 companies.  NoSQL databases are increasingly used in big data and real-time web applications. NoSQL systems are also sometimes called \"Not only SQL\" to emphasize that they may support SQL-like query languages or sit alongside SQL databases in polyglot-persistent architectures.\n",
    "\n",
    "## Master Big Data In Little Time / [Data: Spark](./data/spark/00.ipynb)\n",
    "\n",
    "Apache Spark is an open-source distributed general-purpose cluster-computing framework. Spark provides an interface for programming entire clusters with implicit data parallelism and fault tolerance. "
   ]
  },
  {
   "cell_type": "markdown",
   "metadata": {},
   "source": [
    "- - -"
   ]
  },
  {
   "cell_type": "markdown",
   "metadata": {},
   "source": [
    "\n",
    "## Master Big Data In Little Time / [Language: Pig](./languages/pig/00.ipynb)\n",
    "\n",
    "Apache Pig is a high-level platform for creating programs that run on Apache Hadoop. The language for this platform is called Pig Latin. Pig can execute its Hadoop jobs in MapReduce, Apache Tez, or Apache Spark. Pig Latin abstracts the programming from the Java MapReduce idiom into a notation which makes MapReduce programming high level, similar to that of SQL for relational database management systems. Pig Latin can be extended using user-defined functions (UDFs) which the user can write in Java, Python, JavaScript, Ruby or Groovy and then call directly from the language.\n",
    "\n",
    "\n",
    "## Master Big Data In Little Time / [Language: Hive](./languages/hive/00.ipynb)\n",
    "\n",
    "Apache Hive is a data warehouse software project built on top of Apache Hadoop for providing data query and analysis. Hive gives an SQL-like interface to query data stored in various databases and file systems that integrate with Hadoop. Traditional SQL queries must be implemented in the MapReduce Java API to execute SQL applications and queries over distributed data. Hive provides the necessary SQL abstraction to integrate SQL-like queries (HiveQL) into the underlying Java without the need to implement queries in the low-level Java API. Since most data warehousing applications work with SQL-based querying languages, Hive aids portability of SQL-based applications to Hadoop.[4] While initially developed by Facebook, Apache Hive is used and developed by other companies such as Netflix and the Financial Industry Regulatory Authority (FINRA). Amazon maintains a software fork of Apache Hive included in Amazon Elastic MapReduce on Amazon Web Services.\n",
    "\n",
    "## Master Big Data In Little Time / [Language: Scala](./languages/scala/00.ipynb)\n",
    "\n",
    "Scala is a general-purpose programming language providing support for both object-oriented programming and functional programming. The language has a strong static type system. Designed to be concise, many of Scala's design decisions are aimed to address criticisms of Java.\n"
   ]
  },
  {
   "cell_type": "markdown",
   "metadata": {},
   "source": [
    "- - -\n",
    "\n",
    "## Master Big Data In Little Time / [Cloud: Data Lakes](https://spark.rstudio.com/guides/data-lakes/)\n",
    "\n",
    "A data lake is a system or repository of data stored in its natural/raw format, usually object blobs or files. A data lake is usually a single store of all enterprise data including raw copies of source system data and transformed data used for tasks such as reporting, visualization, advanced analytics and machine learning. A data lake can include structured data from relational databases (rows and columns), semi-structured data (CSV, logs, XML, JSON), unstructured data (emails, documents, PDFs) and binary data (images, audio, video)."
   ]
  },
  {
   "cell_type": "markdown",
   "metadata": {},
   "source": [
    "## Master Big Data In Little Time / [Cloud: Microsoft Azure](#)\n",
    "\n",
    "Microsoft Azure, commonly referred to as Azure, is a cloud computing service created by Microsoft for building, testing, deploying, and managing applications and services through Microsoft-managed data centers."
   ]
  },
  {
   "cell_type": "markdown",
   "metadata": {},
   "source": [
    "## Master Big Data In Little Time / [Cloud: Amazon Web Services](#)\n",
    "\n",
    "Amazon Web Services (AWS) is a subsidiary of Amazon that provides on-demand cloud computing platforms and APIs to individuals, companies, and governments, on a metered pay-as-you-go basis. In aggregate, these cloud computing web services provide a set of primitive abstract technical infrastructure and distributed computing building blocks and tools."
   ]
  },
  {
   "cell_type": "markdown",
   "metadata": {},
   "source": [
    "- - -\n",
    "\n",
    "About Your Trainer\n",
    "---\n",
    "Gary Jackson is a technologist, teacher, and data scientist. \n",
    "\n",
    "Gary brings with him nearly two decades of experiences in IT, Enterprise Architecture, and Big Data & Analytics working for and within multinational companies around the world.\n",
    "\n",
    "Gary helped create the first [Artificial Intelligence written magazine, **Esquire Singapore April 2019** issue](https://wlos.com/news/local/wnc-writer-part-of-international-magazines-artificial-intelligence-team) with a technology called **[AI-Writer](http://ai-writer.com/)**.  More recently, co-founded **[Blockstamped.io](https://blockstamped.io) to [prevent false narratives AKA 'fake news' and deep fakes using Ethereum Blockchain](https://wlos.com/news/local/one-company-works-to-prevent-spread-of-fake-videos)**. \n",
    "\n",
    "On this new **Blockstamped** platform, built the first blockchain authencity app for the media industry with the help of Oscar nominated, multiple Grammy Award winner, ['Bassy' Bob Brockmann](http://www.bassybob.com/) to help digitalize licensing and royalty payments to producers and artists.  This app is called **[Bassed.io](https://www.facebook.com/blockstamped/videos/510817576274052)**. \n",
    "\n",
    "Gary formally was Regional Director of System Integrators (SIs) and Technology Partners for Qlik across Asia Pacific (including Japan, Australia, and New Zealand), Gary led the drive for interactive and collaborative partnerships between global and regional SIs, Business Consulting firms, and Technology Partners. These included Deloitte, KPMG, PwC, Accenture, Wipro, Cloudera, Revolution Analytics, MapR, Intel, and many others.\n",
    "\n",
    "Prior to that he was the Principal for Big Data & Analytics Growth Markets, for Computer Sciences Corporation (CSC), supporting Latin America and Asia-Pacific traveling back and forth between São Paulo, Brasil and Hong Kong. Gary has also worked for SAS Institute as Head of Technology for Asia Pacific, South Africa, Europe, and North America for more than a decade.\n",
    "\n",
    "Gary holds a Bachelor of Science in Computer Information Systems, Information Technology and Computer Information Systems from DeVry University. He is a resident of both Hong Kong 香港 and Asheville, North Carolina.\n",
    "\n",
    "- - - \n",
    "\n",
    "Appeared on TELEVISION –\n",
    "\n",
    "- WLOS ABC (USA) - Blockstamped to stop \"fake news\" in upcoming 2020 political elections - http://bit.ly/39XDAsi\n",
    "- WLOS ABC (USA) - AI Writer to publish world's first half machine written magazine - https://goo.gl/yHRDte\n",
    "- TVB The Pearl Report (Hong Kong) \"Wearable Wave\" on wearable analytics - https://youtu.be/yiGbVdqIzb0\n",
    "- CNBC Asia (Singapore) - Discussed wearable tech - https://cnb.cx/2UuwntT\n",
    "- CNBC Asia (Hong Kong) - Would You Hire A MBA Graduate - https://cnb.cx/2UtHymt\n",
    "- CNBC Asia (Hong Kong) - Twitter as a 'conversation starter' vs revenue creator - https://cnb.cx/3cIwCYl\n",
    "- One TV (Russia)  - AI Writer - https://bit.ly/39DSmor\n",
    "\n",
    "- - -\n",
    "\n",
    "Keynote Speaker at International CONFERENCES – \n",
    "\n",
    "- \"The Myth of BI\" - Innovative Enterprise Singapore - https://youtu.be/oK9NsDv6F_c \n",
    "- \"Conversations as a Service\" - ComputerWorld Hong Kong - https://youtu.be/RoL1CldBKhg \n",
    "- \"Map of Me Analytics\" - SAP Sapphire Madrid - https://youtu.be/fjTq-3Us9Cw\n",
    "https://youtu.be/8aVYpBBN3RQ\n",
    "- \"Social Advertising\" - Enterprise Collaboration Hong Kong - https://youtu.be/8aVYpBBN3RQ\n",
    "- \"Immutable IP: Authenticating Ownership with Blockstamped\" for Proximity - https://youtu.be/D-V_NhjMIIo\n",
    "- \"Blood, Sweat, and Natural Language Processing\" around AI-Writer - https://www.youtube.com/watch?v=qK3ZiM3qIfk\n",
    "\n",
    "- - -\n",
    "\n",
    "Technical ENABLEMENT - \n",
    "\n",
    "Founder of three data science academies across Asia-Pacific and assisted with the General Assembly’s initial data science and analytics curriculum in Hong Kong. Led the KPMG Hong Kong and Hong Kong University of Science and Technology (HKUST) to create a three month immersive Big Data Application competition sponsored by Qlik.  In conjunction with the University of San Carlos (USC) in Cebu, the Philippines created a nine-week data science academy for Singapore VC funded Clicklab Ventures. \n",
    "\n",
    "- General Assembly & Rackspace - \"Take A Class, Take A Cloud\" (2016) - https://vimeo.com/149488960 \n",
    "- KPMG and Hong Kong University of Science Technology (2015) - https://youtu.be/rgLB45tGZJY \n",
    "- Clicklabs Ventures Data Science Academy - Cebu (2015) - https://youtu.be/JDPozb7OXiA \n",
    "- AlphaEight School Analytics - Hong Kong (2011)- https://youtu.be/LX-j80wnv7c"
   ]
  },
  {
   "cell_type": "markdown",
   "metadata": {},
   "source": [
    "- - -\n",
    "\n",
    "Copyright © 2020 Qualex Consulting Services Incorporated."
   ]
  }
 ],
 "metadata": {
  "kernelspec": {
   "display_name": "Python 3",
   "language": "python",
   "name": "python3"
  },
  "language_info": {
   "codemirror_mode": {
    "name": "ipython",
    "version": 3
   },
   "file_extension": ".py",
   "mimetype": "text/x-python",
   "name": "python",
   "nbconvert_exporter": "python",
   "pygments_lexer": "ipython3",
   "version": "3.8.5"
  }
 },
 "nbformat": 4,
 "nbformat_minor": 4
}
