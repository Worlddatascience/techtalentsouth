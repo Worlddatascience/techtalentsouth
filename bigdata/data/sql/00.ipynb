{
 "cells": [
  {
   "cell_type": "markdown",
   "metadata": {},
   "source": [
    "![images](../../images/logo.png)"
   ]
  },
  {
   "cell_type": "markdown",
   "metadata": {},
   "source": [
    "# [Table Of Contents](../../index.ipynb)\n",
    "### Master Big Data In Little Time"
   ]
  },
  {
   "cell_type": "markdown",
   "metadata": {},
   "source": [
    "# SQL"
   ]
  },
  {
   "cell_type": "markdown",
   "metadata": {},
   "source": [
    "SQL is a database computer language designed for the retrieval and management of data in a relational database. SQL stands for Structured Query Language. This tutorial will give you a quick start to SQL. It covers most of the topics required for a basic understanding of SQL and to get a feel of how it works.\n",
    "\n",
    "SQL is a language to operate databases; it includes database creation, deletion, fetching rows, modifying rows, etc. SQL is an ANSI (American National Standards Institute) standard language, but there are many different versions of the SQL language."
   ]
  },
  {
   "cell_type": "markdown",
   "metadata": {},
   "source": [
    "## What is SQL?\n",
    "\n",
    "SQL is Structured Query Language, which is a computer language for storing, manipulating and retrieving data stored in a relational database.\n",
    "\n",
    "SQL is the standard language for Relational Database System. All the Relational Database Management Systems (RDMS) like MySQL, MS Access, Oracle, Sybase, Informix, Postgres and SQL Server use SQL as their standard database language.\n",
    "\n",
    "Also, they are using different dialects, such as −\n",
    "\n",
    "- MS SQL Server using T-SQL,\n",
    "- Oracle using PL/SQL,\n",
    "- MS Access version of SQL is called JET SQL (native format) etc."
   ]
  },
  {
   "cell_type": "markdown",
   "metadata": {},
   "source": [
    "## A Brief History of SQL\n",
    "\n",
    "- 1970 − Dr. Edgar F. \"Ted\" Codd of IBM is known as the father of relational databases. He described a relational model for databases.\n",
    "- 1974 − Structured Query Language appeared.\n",
    "- 1978 − IBM worked to develop Codd's ideas and released a product named System/R.\n",
    "- 1986 − IBM developed the first prototype of relational database and standardized by ANSI. The first relational database was released by Relational Software which later came to be known as Oracle."
   ]
  },
  {
   "cell_type": "markdown",
   "metadata": {},
   "source": [
    "## SQL Process\n",
    "When you are executing an SQL command for any RDBMS, the system determines the best way to carry out your request and SQL engine figures out how to interpret the task.\n",
    "\n",
    "There are various components included in this process.  These components are −\n",
    "\n",
    "- Query Dispatcher\n",
    "- Optimization Engines\n",
    "- Classic Query Engine\n",
    "- SQL Query Engine, etc.\n",
    "\n",
    "A classic query engine handles all the non-SQL queries, but a SQL query engine won't handle logical files."
   ]
  },
  {
   "cell_type": "markdown",
   "metadata": {},
   "source": [
    "![images](../images/sql-architecture.jpg)"
   ]
  },
  {
   "cell_type": "markdown",
   "metadata": {},
   "source": [
    "### Using [DBeaver](https://dbeaver.io/download/)"
   ]
  },
  {
   "cell_type": "markdown",
   "metadata": {},
   "source": [
    "The database created should look like this:"
   ]
  },
  {
   "cell_type": "markdown",
   "metadata": {},
   "source": [
    "![image](images/dbeaver1.png)"
   ]
  },
  {
   "cell_type": "markdown",
   "metadata": {},
   "source": [
    "![image](images/dbeaver2.png)"
   ]
  },
  {
   "cell_type": "markdown",
   "metadata": {},
   "source": [
    "Using the MySQL 8+ connection: "
   ]
  },
  {
   "cell_type": "markdown",
   "metadata": {},
   "source": [
    "![images](images/dbeaver3.png)"
   ]
  },
  {
   "cell_type": "markdown",
   "metadata": {},
   "source": [
    "Making sure your timezone reflects your location: "
   ]
  },
  {
   "cell_type": "markdown",
   "metadata": {},
   "source": [
    "![image](images/dbeaver4.png)"
   ]
  },
  {
   "cell_type": "markdown",
   "metadata": {},
   "source": [
    "To change the settings on Dbeaver:\n",
    "\n",
    "- Right click your connection, choose \"Edit Connection\"\n",
    "- On the \"Connection settings\" screen (main screen) click on \"Edit Driver Settings\""
   ]
  },
  {
   "cell_type": "markdown",
   "metadata": {},
   "source": [
    "![image](images/dbeaver5.png)"
   ]
  },
  {
   "cell_type": "markdown",
   "metadata": {},
   "source": [
    "- Add two properties: \"useSSL\" and \"allowPublicKeyRetrieval\"\n",
    "- Set their values to  \"false\" and \"true\" by double clicking on the \"value\" column."
   ]
  },
  {
   "cell_type": "code",
   "execution_count": null,
   "metadata": {},
   "outputs": [],
   "source": []
  }
 ],
 "metadata": {
  "kernelspec": {
   "display_name": "Python 3",
   "language": "python",
   "name": "python3"
  },
  "language_info": {
   "codemirror_mode": {
    "name": "ipython",
    "version": 3
   },
   "file_extension": ".py",
   "mimetype": "text/x-python",
   "name": "python",
   "nbconvert_exporter": "python",
   "pygments_lexer": "ipython3",
   "version": "3.8.5"
  }
 },
 "nbformat": 4,
 "nbformat_minor": 4
}
